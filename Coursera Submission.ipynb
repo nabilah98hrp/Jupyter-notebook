{
 "cells": [
  {
   "cell_type": "markdown",
   "id": "bcb18b20",
   "metadata": {},
   "source": [
    "# Data Science tools and Ecosystem"
   ]
  },
  {
   "cell_type": "markdown",
   "id": "8b31f767",
   "metadata": {},
   "source": [
    "in this notebook, Data Science Tools and Ecosytem are summarized. "
   ]
  },
  {
   "cell_type": "markdown",
   "id": "15ea39b1",
   "metadata": {},
   "source": [
    "Some of the popular languages that Data Scientists uses are:\n",
    "1. Python\n",
    "2. R\n",
    "3. SQL\n",
    "4. Scala \n",
    "5. Java\n",
    "6. C++\n",
    "7. Julia \n",
    "8. Javascript\n",
    "9. Php\n",
    "10. Go\n",
    "11. Ruby\n",
    "12. Visual Basic "
   ]
  },
  {
   "cell_type": "markdown",
   "id": "b667d82d",
   "metadata": {},
   "source": [
    "Some of the commonly used libraries used by Data Scientists include: \n",
    "1. Pandas \n",
    "2. Numpy\n",
    "3. Matplotlib\n",
    "4. Seaborn \n",
    "5. keras\n",
    "6. TensorFlow\n",
    "7. PyTorch\n",
    "8. Vegas\n",
    "9. Big DL \n",
    "10. Ggplot2"
   ]
  },
  {
   "cell_type": "markdown",
   "id": "741fc886",
   "metadata": {},
   "source": [
    "|Data Science Tools|\n",
    "|------------------|\n",
    "|Anaconda|\n",
    "|R Studio|\n",
    "|Spyder|\n",
    "|Zeppelin|"
   ]
  },
  {
   "cell_type": "markdown",
   "id": "803e9816",
   "metadata": {},
   "source": [
    "Below are a few examples of evaluating arithmetic expressions in Python "
   ]
  },
  {
   "cell_type": "code",
   "execution_count": 1,
   "id": "78cf858c",
   "metadata": {
    "scrolled": true
   },
   "outputs": [
    {
     "data": {
      "text/plain": [
       "178"
      ]
     },
     "execution_count": 1,
     "metadata": {},
     "output_type": "execute_result"
    }
   ],
   "source": [
    "(25*7)+3"
   ]
  },
  {
   "cell_type": "code",
   "execution_count": 3,
   "id": "049151ee",
   "metadata": {},
   "outputs": [
    {
     "name": "stdout",
     "output_type": "stream",
     "text": [
      "hours: 6.0\n"
     ]
    }
   ],
   "source": [
    "# converts minutes to hours \n",
    "minutes = 360 \n",
    "hours = minutes / 60 \n",
    "print (\"hours:\", hours)"
   ]
  },
  {
   "cell_type": "markdown",
   "id": "6f36c358",
   "metadata": {},
   "source": [
    "# Objectives:\n",
    "- Add comments to code cells \n",
    "- Create markdown cells\n",
    "- Add ordered and unordered list to markdown cells\n",
    "- Format content of markdown cells with heaidng styles \n"
   ]
  },
  {
   "cell_type": "markdown",
   "id": "e2f5ad61",
   "metadata": {},
   "source": [
    "Author:\n",
    "\n",
    "Nabilah Harahap"
   ]
  },
  {
   "cell_type": "code",
   "execution_count": null,
   "id": "9cd14624",
   "metadata": {},
   "outputs": [],
   "source": []
  }
 ],
 "metadata": {
  "kernelspec": {
   "display_name": "Python 3 (ipykernel)",
   "language": "python",
   "name": "python3"
  },
  "language_info": {
   "codemirror_mode": {
    "name": "ipython",
    "version": 3
   },
   "file_extension": ".py",
   "mimetype": "text/x-python",
   "name": "python",
   "nbconvert_exporter": "python",
   "pygments_lexer": "ipython3",
   "version": "3.10.9"
  }
 },
 "nbformat": 4,
 "nbformat_minor": 5
}
